{
 "cells": [
  {
   "cell_type": "code",
   "execution_count": 1,
   "id": "739b419b",
   "metadata": {},
   "outputs": [],
   "source": [
    "from langchain.llms import LlamaCpp"
   ]
  },
  {
   "cell_type": "code",
   "execution_count": 1,
   "id": "208605af",
   "metadata": {},
   "outputs": [
    {
     "name": "stderr",
     "output_type": "stream",
     "text": [
      "AVX = 1 | AVX2 = 1 | AVX512 = 0 | AVX512_VBMI = 0 | AVX512_VNNI = 0 | FMA = 1 | NEON = 0 | ARM_FMA = 0 | F16C = 1 | FP16_VA = 0 | WASM_SIMD = 0 | BLAS = 1 | SSE3 = 1 | VSX = 0 | \n"
     ]
    }
   ],
   "source": [
    "from langchain.llms import LlamaCpp\n",
    "from langchain.callbacks.manager import CallbackManager\n",
    "from langchain.callbacks.streaming_stdout import StreamingStdOutCallbackHandler\n",
    "callback_manager = CallbackManager([StreamingStdOutCallbackHandler()])\n",
    "llm = LlamaCpp(temperature=0, \n",
    "               model_path=\"./llms/wizard-vicuna-13B.ggmlv3.q5_1.bin\", \n",
    "               callback_manager=callback_manager, \n",
    "               verbose=True, \n",
    "               max_token_limit=4096, \n",
    "               n_ctx=4096,\n",
    "              n_gpu_layers=40,\n",
    "              n_batch=512)"
   ]
  },
  {
   "cell_type": "code",
   "execution_count": 2,
   "id": "c29bf219",
   "metadata": {},
   "outputs": [],
   "source": [
    "from langchain.prompts.prompt import PromptTemplate\n",
    "\n",
    "template = \"\"\"\n",
    "You are an expert in answering questions about the {format_instructions} object. The object will contain he user's information. Here's is the\n",
    "JSON\n",
    "\n",
    "If there are no entities that you can extract tell the user that the asked information is missing form the database.\n",
    "{{\n",
    "    \"SubscriptionEcpiryDate\" : \"10-10-2023\"\n",
    "}}\n",
    "Based on this information, the entites extracted from the user input are - \\nUSER: {input}\"\"\"\n",
    "prompt = PromptTemplate(\n",
    " input_variables=[\"input\"],\n",
    " template=template,\n",
    " partial_variables={\"format_instructions\": \"JSON\"}\n",
    ")"
   ]
  },
  {
   "cell_type": "code",
   "execution_count": 3,
   "id": "3529e571",
   "metadata": {},
   "outputs": [],
   "source": [
    "from langchain.chains import LLMChain\n",
    "llm_chain = LLMChain(prompt = prompt, llm=llm, verbose=True)\n"
   ]
  },
  {
   "cell_type": "code",
   "execution_count": 4,
   "id": "8d28ca0f",
   "metadata": {},
   "outputs": [
    {
     "name": "stdout",
     "output_type": "stream",
     "text": [
      "\n",
      "\n",
      "\u001b[1m> Entering new  chain...\u001b[0m\n",
      "Prompt after formatting:\n",
      "\u001b[32;1m\u001b[1;3m\n",
      "You are an expert in answering questions about the JSON object. The object will contain he user's information. Here's is the\n",
      "JSON\n",
      "\n",
      "If there are no entities that you can extract tell the user that the asked information is missing form the database.\n",
      "{\n",
      "    \"SubscriptionEcpiryDate\" : \"10-10-2023\"\n",
      "}\n",
      "Based on this information, the entites extracted from the user input are - \n",
      "USER: How many days ayush@gmail.com, subscription is going to expire\u001b[0m\n",
      "?\n",
      "{\n",
      "    \"SubscriptionExpiryDate\": \"10-10-2023\"\n",
      "}\n",
      "\u001b[1m> Finished chain.\u001b[0m\n"
     ]
    }
   ],
   "source": [
    "output = llm_chain.run(input = \"How many days ayush@gmail.com, subscription is going to expire\")"
   ]
  },
  {
   "cell_type": "code",
   "execution_count": null,
   "id": "99d3948a",
   "metadata": {},
   "outputs": [],
   "source": []
  }
 ],
 "metadata": {
  "kernelspec": {
   "display_name": "Python 3.9.6 64-bit",
   "language": "python",
   "name": "python3"
  },
  "language_info": {
   "codemirror_mode": {
    "name": "ipython",
    "version": 3
   },
   "file_extension": ".py",
   "mimetype": "text/x-python",
   "name": "python",
   "nbconvert_exporter": "python",
   "pygments_lexer": "ipython3",
   "version": "3.9.6"
  },
  "vscode": {
   "interpreter": {
    "hash": "31f2aee4e71d21fbe5cf8b01ff0e069b9275f58929596ceb00d14d90e3e16cd6"
   }
  }
 },
 "nbformat": 4,
 "nbformat_minor": 5
}
