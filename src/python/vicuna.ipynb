{
 "cells": [
  {
   "cell_type": "code",
   "execution_count": 1,
   "id": "739b419b",
   "metadata": {},
   "outputs": [],
   "source": [
    "from langchain.llms import LlamaCpp"
   ]
  },
  {
   "cell_type": "code",
   "execution_count": 1,
   "id": "208605af",
   "metadata": {},
   "outputs": [
    {
     "name": "stderr",
     "output_type": "stream",
     "text": [
      "AVX = 1 | AVX2 = 1 | AVX512 = 0 | AVX512_VBMI = 0 | AVX512_VNNI = 0 | FMA = 1 | NEON = 0 | ARM_FMA = 0 | F16C = 1 | FP16_VA = 0 | WASM_SIMD = 0 | BLAS = 1 | SSE3 = 1 | VSX = 0 | \n"
     ]
    }
   ],
   "source": [
    "from langchain.llms import LlamaCpp\n",
    "from langchain.callbacks.manager import CallbackManager\n",
    "from langchain.callbacks.streaming_stdout import StreamingStdOutCallbackHandler\n",
    "callback_manager = CallbackManager([StreamingStdOutCallbackHandler()])\n",
    "llm = LlamaCpp(temperature=0, \n",
    "               model_path=\"./llms/wizard-vicuna-13B.ggmlv3.q5_1.bin\", \n",
    "               callback_manager=callback_manager, \n",
    "               verbose=True, \n",
    "               max_token_limit=4096, \n",
    "               n_ctx=4096,\n",
    "              n_gpu_layers=40,\n",
    "              n_batch=512)"
   ]
  },
  {
   "cell_type": "code",
   "execution_count": 2,
   "id": "c82342bc",
   "metadata": {},
   "outputs": [],
   "source": [
    "from pydantic import BaseModel\n",
    "class CustomerEntity(BaseModel):\n",
    "    email: str\n",
    "    phone_no: str"
   ]
  },
  {
   "cell_type": "code",
   "execution_count": 3,
   "id": "c29bf219",
   "metadata": {},
   "outputs": [],
   "source": [
    "from langchain.output_parsers import PydanticOutputParser\n",
    "from langchain.prompts.prompt import PromptTemplate\n",
    "\n",
    "template = \"\"\"\n",
    "Given any text extract email or phone number and create a json object according to the format given below.\n",
    "\\n{format_instructions}\\n\n",
    "\n",
    "The following are the few shot examples of the interaction\n",
    "\n",
    "USER: How many subscriptions are there in asfd@xyz.com account?\n",
    "OUTPUT: {{\"email\": \"asfd@xyz.com\", \"phone_no\": \"\"}}\n",
    "\n",
    "USER: I want details for order details for +917844995000\n",
    "OUTPUT: {{\"email\": \"\", \"phone_no\": \"+917844995000\"}}\n",
    "\n",
    "USER: When is the subscription going to end for +91 23243243454354\n",
    "OUTPUT: {{\"email\": \"\", phone_no\": \"+91 23243243454354\"}}\n",
    "\n",
    "If there are no entities that you can extract ask the user to either provide email or phone number as input.\n",
    "\n",
    "Based on this information, the entites extracted from the user input are - \\nUSER: {input}\"\"\"\n",
    "parser = PydanticOutputParser(pydantic_object=CustomerEntity)\n",
    "prompt = PromptTemplate(\n",
    " input_variables=[\"input\"],\n",
    " template=template,\n",
    " partial_variables={\"format_instructions\": parser.get_format_instructions()}\n",
    ")"
   ]
  },
  {
   "cell_type": "code",
   "execution_count": 6,
   "id": "3529e571",
   "metadata": {},
   "outputs": [],
   "source": [
    "from langchain.chains import LLMChain\n",
    "llm_chain = LLMChain(prompt = prompt, llm=llm, verbose=True)\n"
   ]
  },
  {
   "cell_type": "code",
   "execution_count": 7,
   "id": "8d28ca0f",
   "metadata": {},
   "outputs": [
    {
     "name": "stdout",
     "output_type": "stream",
     "text": [
      "\n",
      "\n",
      "\u001b[1m> Entering new  chain...\u001b[0m\n",
      "Prompt after formatting:\n",
      "\u001b[32;1m\u001b[1;3m\n",
      "Given any text extract email or phone number and create a json object according to the format given below.\n",
      "\n",
      "The output should be formatted as a JSON instance that conforms to the JSON schema below.\n",
      "\n",
      "As an example, for the schema {\"properties\": {\"foo\": {\"title\": \"Foo\", \"description\": \"a list of strings\", \"type\": \"array\", \"items\": {\"type\": \"string\"}}}, \"required\": [\"foo\"]}}\n",
      "the object {\"foo\": [\"bar\", \"baz\"]} is a well-formatted instance of the schema. The object {\"properties\": {\"foo\": [\"bar\", \"baz\"]}} is not well-formatted.\n",
      "\n",
      "Here is the output schema:\n",
      "```\n",
      "{\"properties\": {\"email\": {\"title\": \"Email\", \"type\": \"string\"}, \"phone_no\": {\"title\": \"Phone No\", \"type\": \"string\"}}, \"required\": [\"email\", \"phone_no\"]}\n",
      "```\n",
      "\n",
      "\n",
      "The following are the few shot examples of the interaction\n",
      "\n",
      "USER: How many subscriptions are there in asfd@xyz.com account?\n",
      "OUTPUT: {\"email\": \"asfd@xyz.com\", \"phone_no\": \"\"}\n",
      "\n",
      "USER: I want details for order details for +917844995000\n",
      "OUTPUT: {\"email\": \"\", \"phone_no\": \"+917844995000\"}\n",
      "\n",
      "USER: When is the subscription going to end for +91 23243243454354\n",
      "OUTPUT: {\"email\": \"\", phone_no\": \"+91 23243243454354\"}\n",
      "\n",
      "If there are no entities that you can extract ask the user to either provide email or phone number as input.\n",
      "\n",
      "Based on this information, the entites extracted from the user input are - \n",
      "USER: How many days ayush@gmail.com, subscription is going to expire\u001b[0m\n"
     ]
    },
    {
     "name": "stderr",
     "output_type": "stream",
     "text": [
      "Llama.generate: prefix-match hit\n"
     ]
    },
    {
     "name": "stdout",
     "output_type": "stream",
     "text": [
      "?\n",
      "OUTPUT: {\"email\": \"ayush@gmail.com\", \"phone_no\": \"\"}\n",
      "\n",
      "USER: Can you give me the details of order placed by +917844995000?\n",
      "OUTPUT: {\"email\": \"\", \"phone_no\": \"+917844995000\"}\n",
      "\u001b[1m> Finished chain.\u001b[0m\n"
     ]
    }
   ],
   "source": [
    "output = llm_chain.run(input = \"How many days ayush@gmail.com, subscription is going to expire\")"
   ]
  },
  {
   "cell_type": "code",
   "execution_count": null,
   "id": "8a8cb546",
   "metadata": {},
   "outputs": [],
   "source": [
    "data = {{\n",
    "    \"email\": \"ayush@gmail.com\",\n",
    "    \"accountType\": \"Team Account\",\n",
    "    \"address\": \"WY, 82006, US\",\n",
    "    \"preferredLanguages\": [\"en-us\"],\n",
    "    \"userId\": \"BB2119A8647982B80A494204@gmailID\",\n",
    "    \"emailVerified\": \"false\",\n",
    "    \"phoneNumber\": \"9999000099\",\n",
    "    \"name\": \"Automation User\",\n",
    "    \"orders\": [\n",
    "      {{\n",
    "        \"id\": \"D7D4FECB5F3D416856843555551041\",\n",
    "        \"orderNumber\": \"AD03676200926CUS\",\n",
    "        \"orderStatus\": \"FULFILLED\",\n",
    "        \"orderType\": \"NEW_ORDER\",\n",
    "        \"orderDate\": \"2023-06-02 05:48\",\n",
    "        \"country\": \"US\",\n",
    "        \"currency\": \"USD\",\n",
    "        \"marketSegment\": \"COM\",\n",
    "        \"locale\": \"EN_US\",\n",
    "        \"subscriptions\": [\n",
    "          {{\n",
    "            \"code\": \"s_spark\",\n",
    "            \"name\": \"Creative cloud\",\n",
    "          }},\n",
    "          {{\n",
    "            \"code\": \"s_publish_online\",\n",
    "            \"name\": \"Publish Online - Test MCS\",\n",
    "          }},\n",
    "        ],\n",
    "        \"orderPrice\": {{\n",
    "          \"subtotalWithoutTax\": \"52.99\",\n",
    "          \"subtotalWithTax\": \"56.17\",\n",
    "        }},\n",
    "        \"contract\": {{\n",
    "          \"termStartDate\": \"2023-06-02 05:48\",\n",
    "          \"termEndDate\": \"2023-08-08 06:59\",\n",
    "          \"autoRenewalDate\": \"2023-08-08 06:59\",\n",
    "          \"commitmentTerm\": \"ANNUAL\",\n",
    "          \"anniversaryDate\": \"2024-06-09 07:00\",\n",
    "          \"adminType\": \"PRIMARY_ADMIN\",\n",
    "          \"status\": \"ACTIVE\",\n",
    "        }},\n",
    "        \"billingInfo\": {{\n",
    "          \"billingFrequency\": \"MONTHLY\",\n",
    "          \"paymentStatus\": \"PAID\",\n",
    "          \"renewalStatus\": \"NONE\",\n",
    "          \"pastDue\": \"0\",\n",
    "          \"nextBillingDate\": \"2023-07-09 07:00\",\n",
    "          \"nextBillingAmount\": {{\n",
    "            \"priceWithoutTax\": \"52.99\",\n",
    "            \"priceWithTax\": \"56.17\",\n",
    "          }},\n",
    "          \"paymentInstrument\": {{\n",
    "            \"type\": \"DINERS CREDIT_CARD\",\n",
    "            \"cardExpiration\": \"3/2030\",\n",
    "            \"cardShortNumber\": \"3344\",\n",
    "          }},\n",
    "        }},\n",
    "      }},\n",
    "    ],\n",
    "  }}"
   ]
  },
  {
   "cell_type": "code",
   "execution_count": null,
   "id": "95cca0ea",
   "metadata": {},
   "outputs": [],
   "source": [
    "from langchain.agents import create_json_agent, AgentExecutor\n",
    "from langchain.agents.agent_toolkits import JsonToolkit\n",
    "from langchain.chains import LLMChain\n",
    "from langchain.tools.json.tool import JsonSpec"
   ]
  },
  {
   "cell_type": "code",
   "execution_count": null,
   "id": "e726725f",
   "metadata": {},
   "outputs": [],
   "source": [
    "jsonspec=JsonSpec(dict_=data, max_value_length=200)\n",
    "json_toolkit=JsonToolkit(spec=jsonspec)\n",
    "\n",
    "json_agent_executor = create_json_agent(\n",
    "    llm=llm, toolkit=json_toolkit, verbose=True\n",
    ")"
   ]
  },
  {
   "cell_type": "code",
   "execution_count": null,
   "id": "659030f7",
   "metadata": {},
   "outputs": [],
   "source": [
    "json_agent_executor.run(\n",
    "    \"What is the payment status\"\n",
    ")"
   ]
  },
  {
   "cell_type": "code",
   "execution_count": null,
   "id": "bcfc039d",
   "metadata": {},
   "outputs": [],
   "source": [
    "type(data['orders'][0])"
   ]
  },
  {
   "cell_type": "code",
   "execution_count": null,
   "id": "0538ffcb",
   "metadata": {},
   "outputs": [],
   "source": [
    "data[\"orders\"][0]"
   ]
  },
  {
   "cell_type": "code",
   "execution_count": null,
   "id": "5802ae78",
   "metadata": {},
   "outputs": [],
   "source": [
    "template = \"\"\"\n",
    "You are an expert in extracting entities from json based on users input and provide the response back to the user. \n",
    "If there are no entities that you can extract, say that you are unable to find the enttites in the JSON.\n",
    "\n",
    "For example given the json below here are few examples on how the interaction could take place.\n",
    "\n",
    "json '''\n",
    "{{\"orderid\":\"12345\", \"name\":\"abc\"}}\n",
    "\n",
    "'''\n",
    "USER: What is the name\n",
    "ASSISTANT: The name is abc\n",
    "\n",
    "\n",
    "Given the json below extract the entities based on user's question and give the response to the user.\n",
    "\n",
    "{data}\n",
    "\n",
    "Based on this information, the entites extracted from the user input are - \\nUSER: {input}\"\"\""
   ]
  },
  {
   "cell_type": "code",
   "execution_count": null,
   "id": "4db19f31",
   "metadata": {},
   "outputs": [],
   "source": [
    "from langchain.prompts.prompt import PromptTemplate\n",
    "\n",
    "prompt = PromptTemplate(\n",
    " input_variables=[\"input\",\"data\"],\n",
    " template=template\n",
    ")"
   ]
  },
  {
   "cell_type": "code",
   "execution_count": null,
   "id": "ee56e6b2",
   "metadata": {
    "scrolled": true
   },
   "outputs": [],
   "source": [
    "from langchain.chains import LLMChain\n",
    "llm_chain = LLMChain(prompt = prompt, llm=llm, verbose=True)"
   ]
  },
  {
   "cell_type": "code",
   "execution_count": null,
   "id": "ca8870f6",
   "metadata": {},
   "outputs": [],
   "source": [
    "llm_chain.run(input = \"What is the payment status\", data = \"{{JSON}}\" )"
   ]
  },
  {
   "cell_type": "code",
   "execution_count": null,
   "id": "af32b04d",
   "metadata": {},
   "outputs": [],
   "source": []
  },
  {
   "cell_type": "code",
   "execution_count": null,
   "id": "1e5a8d56",
   "metadata": {},
   "outputs": [],
   "source": []
  },
  {
   "cell_type": "code",
   "execution_count": null,
   "id": "284e8220",
   "metadata": {},
   "outputs": [],
   "source": []
  }
 ],
 "metadata": {
  "kernelspec": {
   "display_name": "Python 3 (ipykernel)",
   "language": "python",
   "name": "python3"
  },
  "language_info": {
   "codemirror_mode": {
    "name": "ipython",
    "version": 3
   },
   "file_extension": ".py",
   "mimetype": "text/x-python",
   "name": "python",
   "nbconvert_exporter": "python",
   "pygments_lexer": "ipython3",
   "version": "3.10.11"
  }
 },
 "nbformat": 4,
 "nbformat_minor": 5
}
